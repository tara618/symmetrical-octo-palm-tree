{
  "nbformat": 4,
  "nbformat_minor": 0,
  "metadata": {
    "colab": {
      "provenance": [],
      "authorship_tag": "ABX9TyNAcrcJcr0eIIbWoPv54gVG",
      "include_colab_link": true
    },
    "kernelspec": {
      "name": "python3",
      "display_name": "Python 3"
    },
    "language_info": {
      "name": "python"
    }
  },
  "cells": [
    {
      "cell_type": "markdown",
      "metadata": {
        "id": "view-in-github",
        "colab_type": "text"
      },
      "source": [
        "<a href=\"https://colab.research.google.com/github/tara618/symmetrical-octo-palm-tree/blob/main/ML_Lab1.ipynb\" target=\"_parent\"><img src=\"https://colab.research.google.com/assets/colab-badge.svg\" alt=\"Open In Colab\"/></a>"
      ]
    },
    {
      "cell_type": "code",
      "execution_count": null,
      "metadata": {
        "colab": {
          "base_uri": "https://localhost:8080/"
        },
        "id": "5Qx04cI6Xm0A",
        "outputId": "eabd5f27-1144-46df-c7eb-923ecfac346b"
      },
      "outputs": [
        {
          "output_type": "stream",
          "name": "stdout",
          "text": [
            "  Customer  Candies (#)  Mangoes (Kg)  Milk Packets (#)  Payment (Rs)\n",
            "0      C_1           20             6                 2           386\n",
            "1      C_2           16             3                 6           289\n",
            "2      C_3           27             6                 2           393\n",
            "3      C_4           19             1                 2           110\n",
            "4      C_5           24             4                 2           280\n",
            "5      C_6           22             1                 5           167\n",
            "6      C_7           15             4                 2           271\n",
            "7      C_8           18             4                 2           274\n",
            "8      C_9           21             1                 4           148\n",
            "9     C_10           16             2                 4           198\n"
          ]
        }
      ],
      "source": [
        "import numpy as np\n",
        "import pandas as pd\n",
        "purchase = pd.read_excel(r'/Lab Session1 Data.xlsx',sheet_name=\"Purchase data\")\n",
        "irctc = pd.read_excel(r'/Lab Session1 Data.xlsx', sheet_name= \"IRCTC Stock Price\")\n",
        "df = pd.DataFrame(purchase)\n",
        "df.drop(df.iloc[:, 5:22], axis=1, inplace=True)\n",
        "print(df)"
      ]
    },
    {
      "cell_type": "markdown",
      "source": [],
      "metadata": {
        "id": "7UjhenjyXsQb"
      }
    },
    {
      "cell_type": "code",
      "source": [
        "pur_chase = df.iloc[0:9,1:4]\n",
        "A=np.array(pur_chase)\n",
        "C_full =df.iloc[0:9,4]\n",
        "C = np.array(C_full)\n",
        "C = C.reshape(9,1)\n",
        "print(C)"
      ],
      "metadata": {
        "id": "8I1UdKCdXp-H",
        "colab": {
          "base_uri": "https://localhost:8080/"
        },
        "outputId": "37b0da6f-1812-442d-8c60-c04538da1b9f"
      },
      "execution_count": null,
      "outputs": [
        {
          "output_type": "stream",
          "name": "stdout",
          "text": [
            "[[386]\n",
            " [289]\n",
            " [393]\n",
            " [110]\n",
            " [280]\n",
            " [167]\n",
            " [271]\n",
            " [274]\n",
            " [148]]\n"
          ]
        }
      ]
    },
    {
      "cell_type": "code",
      "source": [
        "print(\"Dimensionality of the matrix is\", df.shape)\n",
        "print(\"The rank of matrix is \", np.linalg.matrix_rank(pur_chase))\n"
      ],
      "metadata": {
        "id": "um1cnO2VXqP7",
        "colab": {
          "base_uri": "https://localhost:8080/"
        },
        "outputId": "a81b6cf2-c733-4efe-f091-fbcfda508d8a"
      },
      "execution_count": null,
      "outputs": [
        {
          "output_type": "stream",
          "name": "stdout",
          "text": [
            "Dimensionality of the matrix is (10, 5)\n",
            "The rank of matrix is  3\n"
          ]
        }
      ]
    },
    {
      "cell_type": "markdown",
      "source": [],
      "metadata": {
        "id": "ECDXfjo_604f"
      }
    },
    {
      "cell_type": "code",
      "source": [
        "Y = np.linalg.pinv(A)\n",
        "print(Y)\n"
      ],
      "metadata": {
        "colab": {
          "base_uri": "https://localhost:8080/"
        },
        "id": "bIfPNrSF61nA",
        "outputId": "b4bd07ad-7bb1-4ca8-a15b-84e137d0bfa9"
      },
      "execution_count": null,
      "outputs": [
        {
          "output_type": "stream",
          "name": "stdout",
          "text": [
            "[[-0.01029074 -0.03304951  0.01017895  0.02894814  0.01827148  0.01045111\n",
            "  -0.0080467   0.00072602  0.01661679]\n",
            " [ 0.0907317   0.07382695  0.03170332 -0.09063689 -0.01891929 -0.06850066\n",
            "   0.05697434  0.03167646 -0.07587941]\n",
            " [ 0.00524254  0.17851348 -0.05838688 -0.06472439 -0.06273987  0.04626489\n",
            "   0.01906939 -0.00820036  0.00926846]]\n"
          ]
        }
      ]
    },
    {
      "cell_type": "code",
      "source": [
        "X = np.dot(Y,C)\n",
        "print(\"Solution is\", X)"
      ],
      "metadata": {
        "colab": {
          "base_uri": "https://localhost:8080/"
        },
        "id": "25Fcoj6N611T",
        "outputId": "8d69e2fb-7571-4fe2-a426-58f61b545dc5"
      },
      "execution_count": null,
      "outputs": [
        {
          "output_type": "stream",
          "name": "stdout",
          "text": [
            "Solution is [[ 1.]\n",
            " [55.]\n",
            " [18.]]\n"
          ]
        }
      ]
    },
    {
      "cell_type": "code",
      "source": [
        "print(\"Cost of candy is\", X[0])\n",
        "print(\"COst of mango is\", X[1])\n",
        "print(\"Cost of milk packet is\", X[2])"
      ],
      "metadata": {
        "colab": {
          "base_uri": "https://localhost:8080/"
        },
        "id": "639MEAXe62AC",
        "outputId": "f18e66c4-359e-4268-e852-8f6371adda9e"
      },
      "execution_count": null,
      "outputs": [
        {
          "output_type": "stream",
          "name": "stdout",
          "text": [
            "Cost of candy is [1.]\n",
            "COst of mango is [55.]\n",
            "Cost of milk packet is [18.]\n"
          ]
        }
      ]
    },
    {
      "cell_type": "code",
      "source": [
        "new_df = df\n",
        "status_pay = []\n",
        "for row in df['Payment (Rs)']:\n",
        "  if row < 200 :\n",
        "    status_pay.append('Poor')\n",
        "  elif row>=200 :\n",
        "    status_pay.append('Rich')\n",
        "new_df['Pay']= status_pay\n",
        "print(new_df)"
      ],
      "metadata": {
        "colab": {
          "base_uri": "https://localhost:8080/"
        },
        "id": "jPyVJNF362Hz",
        "outputId": "0315c664-9b33-47e2-bdc5-80cbec861c3a"
      },
      "execution_count": null,
      "outputs": [
        {
          "output_type": "stream",
          "name": "stdout",
          "text": [
            "  Customer  Candies (#)  Mangoes (Kg)  Milk Packets (#)  Payment (Rs)   Pay\n",
            "0      C_1           20             6                 2           386  Rich\n",
            "1      C_2           16             3                 6           289  Rich\n",
            "2      C_3           27             6                 2           393  Rich\n",
            "3      C_4           19             1                 2           110  Poor\n",
            "4      C_5           24             4                 2           280  Rich\n",
            "5      C_6           22             1                 5           167  Poor\n",
            "6      C_7           15             4                 2           271  Rich\n",
            "7      C_8           18             4                 2           274  Rich\n",
            "8      C_9           21             1                 4           148  Poor\n",
            "9     C_10           16             2                 4           198  Poor\n"
          ]
        }
      ]
    },
    {
      "cell_type": "code",
      "source": [
        "irctc_df = pd.DataFrame(irctc)\n",
        "print(irctc_df)"
      ],
      "metadata": {
        "colab": {
          "base_uri": "https://localhost:8080/"
        },
        "id": "lbKhlJrV62KN",
        "outputId": "3410c360-e074-4392-aa1f-ce39a76dc4ec"
      },
      "execution_count": null,
      "outputs": [
        {
          "output_type": "stream",
          "name": "stdout",
          "text": [
            "             Date Month  Day    Price     Open     High      Low   Volume  \\\n",
            "0    Jun 29, 2021   Jun  Tue  2081.85  2092.00  2126.90  2065.05    1.67M   \n",
            "1    Jun 28, 2021   Jun  Mon  2077.75  2084.00  2112.45  2068.40  707.73K   \n",
            "2    Jun 25, 2021   Jun  Fri  2068.85  2084.35  2088.50  2053.10  475.82K   \n",
            "3    Jun 24, 2021   Jun  Thu  2072.95  2098.00  2098.00  2066.00  541.51K   \n",
            "4    Jun 23, 2021   Jun  Wed  2078.25  2102.00  2111.40  2072.00  809.62K   \n",
            "..            ...   ...  ...      ...      ...      ...      ...      ...   \n",
            "244  Jul 07, 2020   Jul  Tue  1397.40  1410.00  1411.00  1390.05  480.21K   \n",
            "245  Jul 06, 2020   Jul  Mon  1400.75  1405.50  1415.50  1394.00  614.93K   \n",
            "246  Jul 03, 2020   Jul  Fri  1405.10  1415.00  1425.00  1398.00  599.49K   \n",
            "247  Jul 02, 2020   Jul  Thu  1412.35  1440.00  1467.80  1395.30    2.16M   \n",
            "248  Jul 01, 2020   Jul  Wed  1363.05  1363.65  1377.00  1356.00  383.00K   \n",
            "\n",
            "       Chg%  \n",
            "0    0.0020  \n",
            "1    0.0043  \n",
            "2   -0.0020  \n",
            "3   -0.0026  \n",
            "4   -0.0023  \n",
            "..      ...  \n",
            "244 -0.0024  \n",
            "245 -0.0031  \n",
            "246 -0.0051  \n",
            "247  0.0362  \n",
            "248  0.0032  \n",
            "\n",
            "[249 rows x 9 columns]\n"
          ]
        }
      ]
    },
    {
      "cell_type": "code",
      "source": [
        "irctc_mean = irctc_df[\"Price\"].mean()\n",
        "print(\"The mean is \", irctc_mean)"
      ],
      "metadata": {
        "colab": {
          "base_uri": "https://localhost:8080/"
        },
        "id": "IsK8xSaU62Nu",
        "outputId": "9d6e0961-6e14-4c45-96de-df915111e00d"
      },
      "execution_count": null,
      "outputs": [
        {
          "output_type": "stream",
          "name": "stdout",
          "text": [
            "The mean is  1560.6634538152612\n"
          ]
        }
      ]
    },
    {
      "cell_type": "code",
      "source": [
        "irctc_var = irctc_df[\"Price\"].var()\n",
        "print(\"The variance is \", irctc_var)"
      ],
      "metadata": {
        "colab": {
          "base_uri": "https://localhost:8080/"
        },
        "id": "SbR4VMA680qp",
        "outputId": "d20b6eb7-d487-47bc-9e85-ce196436a02b"
      },
      "execution_count": null,
      "outputs": [
        {
          "output_type": "stream",
          "name": "stdout",
          "text": [
            "The variance is  58732.36535253918\n"
          ]
        }
      ]
    },
    {
      "cell_type": "code",
      "source": [
        "wednes_mean = irctc_df.loc[irctc_df['Day'] == 'Wed', 'Price'].mean()\n",
        "print(wednes_mean)\n",
        "print(\"The sales at IRCTC are less during Wednesdays.\")"
      ],
      "metadata": {
        "colab": {
          "base_uri": "https://localhost:8080/"
        },
        "id": "-azI8a-G80sY",
        "outputId": "960763aa-a885-4c39-bcef-ba2f72b7e80e"
      },
      "execution_count": null,
      "outputs": [
        {
          "output_type": "stream",
          "name": "stdout",
          "text": [
            "1550.7060000000001\n",
            "The sales at IRCTC are less during Wednesdays.\n"
          ]
        }
      ]
    },
    {
      "cell_type": "code",
      "source": [
        "apr_mean = irctc_df.loc[irctc_df['Month'] == 'Apr', 'Price'].mean()\n",
        "print(apr_mean)\n",
        "print(\"The sales at IRCTC are higher during the month of April.\")"
      ],
      "metadata": {
        "colab": {
          "base_uri": "https://localhost:8080/"
        },
        "id": "i4xBxfAm80ui",
        "outputId": "d54b55b9-8de6-4904-d56a-663402f20406"
      },
      "execution_count": null,
      "outputs": [
        {
          "output_type": "stream",
          "name": "stdout",
          "text": [
            "1698.9526315789474\n",
            "The sales at IRCTC are higher during the month of April.\n"
          ]
        }
      ]
    },
    {
      "cell_type": "code",
      "source": [
        "no_of_neg = 0\n",
        "\n",
        "for index,row in irctc_df.iterrows():\n",
        "    if row['Chg%'] < 0:\n",
        "        no_of_neg+=1\n",
        "\n",
        "print(\"Probability of loss+ \",no_of_neg/irctc_df.shape[0])"
      ],
      "metadata": {
        "colab": {
          "base_uri": "https://localhost:8080/"
        },
        "id": "aBKjk58580wj",
        "outputId": "e738cc58-1502-4ffa-fac7-1be1c9ecdbe0"
      },
      "execution_count": null,
      "outputs": [
        {
          "output_type": "stream",
          "name": "stdout",
          "text": [
            "probability of loss+  0.4979919678714859\n"
          ]
        }
      ]
    },
    {
      "cell_type": "code",
      "source": [
        "no_of_wed=0\n",
        "no_of_wed_pos=0\n",
        "\n",
        "for index,row in irctc_df.iterrows():\n",
        "    if row['Day']=='Wed':\n",
        "        if row['Chg%']>0:\n",
        "            no_of_wed_pos+=1\n",
        "        no_of_wed+=1\n",
        "\n",
        "print(\"Probability of getting a profit on Wednesday= \",no_of_wed_pos/no_of_wed)"
      ],
      "metadata": {
        "colab": {
          "base_uri": "https://localhost:8080/"
        },
        "id": "ryGjN8vh80yn",
        "outputId": "f66a981e-ea89-4f50-993a-434f0daeb0c4"
      },
      "execution_count": null,
      "outputs": [
        {
          "output_type": "stream",
          "name": "stdout",
          "text": [
            "Probability of getting a profit on Wednesday=  0.42\n"
          ]
        }
      ]
    },
    {
      "cell_type": "code",
      "source": [
        "import matplotlib.pyplot as plt\n",
        "days= []\n",
        "chg= []\n",
        "for index,row in irctc_df.iterrows():\n",
        "    days.append(row['Day'])\n",
        "    chg.append(row['Chg%'])\n",
        "\n",
        "\n",
        "plt.scatter(days, chg)\n",
        "plt.show()"
      ],
      "metadata": {
        "colab": {
          "base_uri": "https://localhost:8080/",
          "height": 433
        },
        "id": "U1QNhA86800p",
        "outputId": "b2b9c860-4466-436d-814a-c91477f55b89"
      },
      "execution_count": null,
      "outputs": [
        {
          "output_type": "display_data",
          "data": {
            "text/plain": [
              "<Figure size 640x480 with 1 Axes>"
            ],
            "image/png": "[encoded data removed]"
          },
          "metadata": {}
        }
      ]
    }
  ]
}