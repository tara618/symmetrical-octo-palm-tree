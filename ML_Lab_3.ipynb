{
  "nbformat": 4,
  "nbformat_minor": 0,
  "metadata": {
    "colab": {
      "provenance": [],
      "authorship_tag": "ABX9TyOIpKq/cYFHPFPHnujD1R7o",
      "include_colab_link": true
    },
    "kernelspec": {
      "name": "python3",
      "display_name": "Python 3"
    },
    "language_info": {
      "name": "python"
    }
  },
  "cells": [
    {
      "cell_type": "markdown",
      "metadata": {
        "id": "view-in-github",
        "colab_type": "text"
      },
      "source": [
        "<a href=\"https://colab.research.google.com/github/tara618/symmetrical-octo-palm-tree/blob/main/ML_Lab_3.ipynb\" target=\"_parent\"><img src=\"https://colab.research.google.com/assets/colab-badge.svg\" alt=\"Open In Colab\"/></a>"
      ]
    },
    {
      "cell_type": "code",
      "execution_count": null,
      "metadata": {
        "id": "EVv3KmgaQHxo"
      },
      "outputs": [],
      "source": [
        "import numpy as np\n",
        "import pandas as pd\n",
        "import matplotlib.pyplot as plt\n",
        "import math"
      ]
    },
    {
      "cell_type": "code",
      "source": [
        "df = pd.read_csv('./x.csv')\n",
        "df.head(10)"
      ],
      "metadata": {
        "colab": {
          "base_uri": "https://localhost:8080/",
          "height": 363
        },
        "id": "C49Jn7SjQIu2",
        "outputId": "bd6ae166-5a10-48d1-f53f-9e98ff06a70d"
      },
      "execution_count": null,
      "outputs": [
        {
          "output_type": "execute_result",
          "data": {
            "text/plain": [
              "                                            filename  width  height  class  \\\n",
              "0  a_846_jpg.rf.16ae5101af82219ebb320a9848f8ad80.jpg    720     404      6   \n",
              "1  a_144_jpg.rf.1e2dff958e04ae1f6ce93627c8ef281a.jpg    720     404     11   \n",
              "2  a_124_jpg.rf.157aebd9cf9c92cc819b6ec92a7183fd.jpg    720     404     10   \n",
              "3   no_9_jpg.rf.207063dcdefd0a9c4c30d682c6bb5d9b.jpg   2304    1440     10   \n",
              "4  surgery_5_jpg.rf.14697c20b72556a364ce21b3ab930...   2304    1440     13   \n",
              "5  a_933_jpg.rf.14b069909e8faef35f91cf0173c84bf0.jpg    720     404     11   \n",
              "6  a_311_jpg.rf.2544fe462a2807b99b05fedaf5c49e72.jpg    720     404      6   \n",
              "7  a_123_jpg.rf.2389dca6f0653e955bb7d04f5a585037.jpg    720     404     10   \n",
              "8  a_173_jpg.rf.23ff24582f38cad8e1126017b5688029.jpg    720     404     13   \n",
              "9  a_899_jpg.rf.23dff9b5995099519d4478f0c89342ee.jpg    720     404      9   \n",
              "\n",
              "   xmin  ymin  xmax  ymax  \n",
              "0   138    11   295   211  \n",
              "1   135   285   278   375  \n",
              "2   222   316   437   402  \n",
              "3   864   980  1424  1206  \n",
              "4  1129   750  1516   994  \n",
              "5   172   212   268   276  \n",
              "6   160    34   334   252  \n",
              "7   231   269   426   386  \n",
              "8   290   254   453   404  \n",
              "9   285   169   390   297  "
            ],
            "text/html": [
              "\n",
              "  <div id=\"df-db7b21db-f156-46f4-98ac-5ab99420d21a\" class=\"colab-df-container\">\n",
              "    <div>\n",
              "<style scoped>\n",
              "    .dataframe tbody tr th:only-of-type {\n",
              "        vertical-align: middle;\n",
              "    }\n",
              "\n",
              "    .dataframe tbody tr th {\n",
              "        vertical-align: top;\n",
              "    }\n",
              "\n",
              "    .dataframe thead th {\n",
              "        text-align: right;\n",
              "    }\n",
              "</style>\n",
              "<table border=\"1\" class=\"dataframe\">\n",
              "  <thead>\n",
              "    <tr style=\"text-align: right;\">\n",
              "      <th></th>\n",
              "      <th>filename</th>\n",
              "      <th>width</th>\n",
              "      <th>height</th>\n",
              "      <th>class</th>\n",
              "      <th>xmin</th>\n",
              "      <th>ymin</th>\n",
              "      <th>xmax</th>\n",
              "      <th>ymax</th>\n",
              "    </tr>\n",
              "  </thead>\n",
              "  <tbody>\n",
              "    <tr>\n",
              "      <th>0</th>\n",
              "      <td>a_846_jpg.rf.16ae5101af82219ebb320a9848f8ad80.jpg</td>\n",
              "      <td>720</td>\n",
              "      <td>404</td>\n",
              "      <td>6</td>\n",
              "      <td>138</td>\n",
              "      <td>11</td>\n",
              "      <td>295</td>\n",
              "      <td>211</td>\n",
              "    </tr>\n",
              "    <tr>\n",
              "      <th>1</th>\n",
              "      <td>a_144_jpg.rf.1e2dff958e04ae1f6ce93627c8ef281a.jpg</td>\n",
              "      <td>720</td>\n",
              "      <td>404</td>\n",
              "      <td>11</td>\n",
              "      <td>135</td>\n",
              "      <td>285</td>\n",
              "      <td>278</td>\n",
              "      <td>375</td>\n",
              "    </tr>\n",
              "    <tr>\n",
              "      <th>2</th>\n",
              "      <td>a_124_jpg.rf.157aebd9cf9c92cc819b6ec92a7183fd.jpg</td>\n",
              "      <td>720</td>\n",
              "      <td>404</td>\n",
              "      <td>10</td>\n",
              "      <td>222</td>\n",
              "      <td>316</td>\n",
              "      <td>437</td>\n",
              "      <td>402</td>\n",
              "    </tr>\n",
              "    <tr>\n",
              "      <th>3</th>\n",
              "      <td>no_9_jpg.rf.207063dcdefd0a9c4c30d682c6bb5d9b.jpg</td>\n",
              "      <td>2304</td>\n",
              "      <td>1440</td>\n",
              "      <td>10</td>\n",
              "      <td>864</td>\n",
              "      <td>980</td>\n",
              "      <td>1424</td>\n",
              "      <td>1206</td>\n",
              "    </tr>\n",
              "    <tr>\n",
              "      <th>4</th>\n",
              "      <td>surgery_5_jpg.rf.14697c20b72556a364ce21b3ab930...</td>\n",
              "      <td>2304</td>\n",
              "      <td>1440</td>\n",
              "      <td>13</td>\n",
              "      <td>1129</td>\n",
              "      <td>750</td>\n",
              "      <td>1516</td>\n",
              "      <td>994</td>\n",
              "    </tr>\n",
              "    <tr>\n",
              "      <th>5</th>\n",
              "      <td>a_933_jpg.rf.14b069909e8faef35f91cf0173c84bf0.jpg</td>\n",
              "      <td>720</td>\n",
              "      <td>404</td>\n",
              "      <td>11</td>\n",
              "      <td>172</td>\n",
              "      <td>212</td>\n",
              "      <td>268</td>\n",
              "      <td>276</td>\n",
              "    </tr>\n",
              "    <tr>\n",
              "      <th>6</th>\n",
              "      <td>a_311_jpg.rf.2544fe462a2807b99b05fedaf5c49e72.jpg</td>\n",
              "      <td>720</td>\n",
              "      <td>404</td>\n",
              "      <td>6</td>\n",
              "      <td>160</td>\n",
              "      <td>34</td>\n",
              "      <td>334</td>\n",
              "      <td>252</td>\n",
              "    </tr>\n",
              "    <tr>\n",
              "      <th>7</th>\n",
              "      <td>a_123_jpg.rf.2389dca6f0653e955bb7d04f5a585037.jpg</td>\n",
              "      <td>720</td>\n",
              "      <td>404</td>\n",
              "      <td>10</td>\n",
              "      <td>231</td>\n",
              "      <td>269</td>\n",
              "      <td>426</td>\n",
              "      <td>386</td>\n",
              "    </tr>\n",
              "    <tr>\n",
              "      <th>8</th>\n",
              "      <td>a_173_jpg.rf.23ff24582f38cad8e1126017b5688029.jpg</td>\n",
              "      <td>720</td>\n",
              "      <td>404</td>\n",
              "      <td>13</td>\n",
              "      <td>290</td>\n",
              "      <td>254</td>\n",
              "      <td>453</td>\n",
              "      <td>404</td>\n",
              "    </tr>\n",
              "    <tr>\n",
              "      <th>9</th>\n",
              "      <td>a_899_jpg.rf.23dff9b5995099519d4478f0c89342ee.jpg</td>\n",
              "      <td>720</td>\n",
              "      <td>404</td>\n",
              "      <td>9</td>\n",
              "      <td>285</td>\n",
              "      <td>169</td>\n",
              "      <td>390</td>\n",
              "      <td>297</td>\n",
              "    </tr>\n",
              "  </tbody>\n",
              "</table>\n",
              "</div>\n",
              "    <div class=\"colab-df-buttons\">\n",
              "\n",
              "  <div class=\"colab-df-container\">\n",
              "    <button class=\"colab-df-convert\" onclick=\"convertToInteractive('df-db7b21db-f156-46f4-98ac-5ab99420d21a')\"\n",
              "            title=\"Convert this dataframe to an interactive table.\"\n",
              "            style=\"display:none;\">\n",
              "\n",
              "  <svg xmlns=\"http://www.w3.org/2000/svg\" height=\"24px\" viewBox=\"0 -960 960 960\">\n",
              "    <path d=\"M120-120v-720h720v720H120Zm60-500h600v-160H180v160Zm220 220h160v-160H400v160Zm0 220h160v-160H400v160ZM180-400h160v-160H180v160Zm440 0h160v-160H620v160ZM180-180h160v-160H180v160Zm440 0h160v-160H620v160Z\"/>\n",
              "  </svg>\n",
              "    </button>\n",
              "\n",
              "  <style>\n",
              "    .colab-df-container {\n",
              "      display:flex;\n",
              "      gap: 12px;\n",
              "    }\n",
              "\n",
              "    .colab-df-convert {\n",
              "      background-color: #E8F0FE;\n",
              "      border: none;\n",
              "      border-radius: 50%;\n",
              "      cursor: pointer;\n",
              "      display: none;\n",
              "      fill: #1967D2;\n",
              "      height: 32px;\n",
              "      padding: 0 0 0 0;\n",
              "      width: 32px;\n",
              "    }\n",
              "\n",
              "    .colab-df-convert:hover {\n",
              "      background-color: #E2EBFA;\n",
              "      box-shadow: 0px 1px 2px rgba(60, 64, 67, 0.3), 0px 1px 3px 1px rgba(60, 64, 67, 0.15);\n",
              "      fill: #174EA6;\n",
              "    }\n",
              "\n",
              "    .colab-df-buttons div {\n",
              "      margin-bottom: 4px;\n",
              "    }\n",
              "\n",
              "    [theme=dark] .colab-df-convert {\n",
              "      background-color: #3B4455;\n",
              "      fill: #D2E3FC;\n",
              "    }\n",
              "\n",
              "    [theme=dark] .colab-df-convert:hover {\n",
              "      background-color: #434B5C;\n",
              "      box-shadow: 0px 1px 3px 1px rgba(0, 0, 0, 0.15);\n",
              "      filter: drop-shadow(0px 1px 2px rgba(0, 0, 0, 0.3));\n",
              "      fill: #FFFFFF;\n",
              "    }\n",
              "  </style>\n",
              "\n",
              "    <script>\n",
              "      const buttonEl =\n",
              "        document.querySelector('#df-db7b21db-f156-46f4-98ac-5ab99420d21a button.colab-df-convert');\n",
              "      buttonEl.style.display =\n",
              "        google.colab.kernel.accessAllowed ? 'block' : 'none';\n",
              "\n",
              "      async function convertToInteractive(key) {\n",
              "        const element = document.querySelector('#df-db7b21db-f156-46f4-98ac-5ab99420d21a');\n",
              "        const dataTable =\n",
              "          await google.colab.kernel.invokeFunction('convertToInteractive',\n",
              "                                                    [key], {});\n",
              "        if (!dataTable) return;\n",
              "\n",
              "        const docLinkHtml = 'Like what you see? Visit the ' +\n",
              "          '<a target=\"_blank\" href=https://colab.research.google.com/notebooks/data_table.ipynb>data table notebook</a>'\n",
              "          + ' to learn more about interactive tables.';\n",
              "        element.innerHTML = '';\n",
              "        dataTable['output_type'] = 'display_data';\n",
              "        await google.colab.output.renderOutput(dataTable, element);\n",
              "        const docLink = document.createElement('div');\n",
              "        docLink.innerHTML = docLinkHtml;\n",
              "        element.appendChild(docLink);\n",
              "      }\n",
              "    </script>\n",
              "  </div>\n",
              "\n",
              "\n",
              "<div id=\"df-35bb171b-ed9d-432f-88b6-5f47111a88ea\">\n",
              "  <button class=\"colab-df-quickchart\" onclick=\"quickchart('df-35bb171b-ed9d-432f-88b6-5f47111a88ea')\"\n",
              "            title=\"Suggest charts.\"\n",
              "            style=\"display:none;\">\n",
              "\n",
              "<svg xmlns=\"http://www.w3.org/2000/svg\" height=\"24px\"viewBox=\"0 0 24 24\"\n",
              "     width=\"24px\">\n",
              "    <g>\n",
              "        <path d=\"M19 3H5c-1.1 0-2 .9-2 2v14c0 1.1.9 2 2 2h14c1.1 0 2-.9 2-2V5c0-1.1-.9-2-2-2zM9 17H7v-7h2v7zm4 0h-2V7h2v10zm4 0h-2v-4h2v4z\"/>\n",
              "    </g>\n",
              "</svg>\n",
              "  </button>\n",
              "\n",
              "<style>\n",
              "  .colab-df-quickchart {\n",
              "      --bg-color: #E8F0FE;\n",
              "      --fill-color: #1967D2;\n",
              "      --hover-bg-color: #E2EBFA;\n",
              "      --hover-fill-color: #174EA6;\n",
              "      --disabled-fill-color: #AAA;\n",
              "      --disabled-bg-color: #DDD;\n",
              "  }\n",
              "\n",
              "  [theme=dark] .colab-df-quickchart {\n",
              "      --bg-color: #3B4455;\n",
              "      --fill-color: #D2E3FC;\n",
              "      --hover-bg-color: #434B5C;\n",
              "      --hover-fill-color: #FFFFFF;\n",
              "      --disabled-bg-color: #3B4455;\n",
              "      --disabled-fill-color: #666;\n",
              "  }\n",
              "\n",
              "  .colab-df-quickchart {\n",
              "    background-color: var(--bg-color);\n",
              "    border: none;\n",
              "    border-radius: 50%;\n",
              "    cursor: pointer;\n",
              "    display: none;\n",
              "    fill: var(--fill-color);\n",
              "    height: 32px;\n",
              "    padding: 0;\n",
              "    width: 32px;\n",
              "  }\n",
              "\n",
              "  .colab-df-quickchart:hover {\n",
              "    background-color: var(--hover-bg-color);\n",
              "    box-shadow: 0 1px 2px rgba(60, 64, 67, 0.3), 0 1px 3px 1px rgba(60, 64, 67, 0.15);\n",
              "    fill: var(--button-hover-fill-color);\n",
              "  }\n",
              "\n",
              "  .colab-df-quickchart-complete:disabled,\n",
              "  .colab-df-quickchart-complete:disabled:hover {\n",
              "    background-color: var(--disabled-bg-color);\n",
              "    fill: var(--disabled-fill-color);\n",
              "    box-shadow: none;\n",
              "  }\n",
              "\n",
              "  .colab-df-spinner {\n",
              "    border: 2px solid var(--fill-color);\n",
              "    border-color: transparent;\n",
              "    border-bottom-color: var(--fill-color);\n",
              "    animation:\n",
              "      spin 1s steps(1) infinite;\n",
              "  }\n",
              "\n",
              "  @keyframes spin {\n",
              "    0% {\n",
              "      border-color: transparent;\n",
              "      border-bottom-color: var(--fill-color);\n",
              "      border-left-color: var(--fill-color);\n",
              "    }\n",
              "    20% {\n",
              "      border-color: transparent;\n",
              "      border-left-color: var(--fill-color);\n",
              "      border-top-color: var(--fill-color);\n",
              "    }\n",
              "    30% {\n",
              "      border-color: transparent;\n",
              "      border-left-color: var(--fill-color);\n",
              "      border-top-color: var(--fill-color);\n",
              "      border-right-color: var(--fill-color);\n",
              "    }\n",
              "    40% {\n",
              "      border-color: transparent;\n",
              "      border-right-color: var(--fill-color);\n",
              "      border-top-color: var(--fill-color);\n",
              "    }\n",
              "    60% {\n",
              "      border-color: transparent;\n",
              "      border-right-color: var(--fill-color);\n",
              "    }\n",
              "    80% {\n",
              "      border-color: transparent;\n",
              "      border-right-color: var(--fill-color);\n",
              "      border-bottom-color: var(--fill-color);\n",
              "    }\n",
              "    90% {\n",
              "      border-color: transparent;\n",
              "      border-bottom-color: var(--fill-color);\n",
              "    }\n",
              "  }\n",
              "</style>\n",
              "\n",
              "  <script>\n",
              "    async function quickchart(key) {\n",
              "      const quickchartButtonEl =\n",
              "        document.querySelector('#' + key + ' button');\n",
              "      quickchartButtonEl.disabled = true;  // To prevent multiple clicks.\n",
              "      quickchartButtonEl.classList.add('colab-df-spinner');\n",
              "      try {\n",
              "        const charts = await google.colab.kernel.invokeFunction(\n",
              "            'suggestCharts', [key], {});\n",
              "      } catch (error) {\n",
              "        console.error('Error during call to suggestCharts:', error);\n",
              "      }\n",
              "      quickchartButtonEl.classList.remove('colab-df-spinner');\n",
              "      quickchartButtonEl.classList.add('colab-df-quickchart-complete');\n",
              "    }\n",
              "    (() => {\n",
              "      let quickchartButtonEl =\n",
              "        document.querySelector('#df-35bb171b-ed9d-432f-88b6-5f47111a88ea button');\n",
              "      quickchartButtonEl.style.display =\n",
              "        google.colab.kernel.accessAllowed ? 'block' : 'none';\n",
              "    })();\n",
              "  </script>\n",
              "</div>\n",
              "    </div>\n",
              "  </div>\n"
            ]
          },
          "metadata": {},
          "execution_count": 2
        }
      ]
    },
    {
      "cell_type": "code",
      "source": [
        "width_mean= df['width'].mean()\n",
        "height_mean = df['height'].mean()\n",
        "class_mean = df['class'].mean()\n",
        "xmin_mean = df['xmin'].mean()\n",
        "ymin_mean = df['ymin'].mean()\n",
        "xmax_mean = df['xmax'].mean()\n",
        "ymax_mean = df['ymax'].mean()\n",
        "\n",
        "print(f\"Mean of width: {width_mean}, height :{height_mean}, class :{class_mean}\")\n",
        "print(f\"xmin :{xmin_mean}, ymin :{ymin_mean}, xmax :{xmax_mean}, ymax :{ymax_mean}\")"
      ],
      "metadata": {
        "colab": {
          "base_uri": "https://localhost:8080/"
        },
        "id": "thiUlDQpQIxC",
        "outputId": "373dc826-eae8-4fd8-ebeb-99d5c50a2635"
      },
      "execution_count": null,
      "outputs": [
        {
          "output_type": "stream",
          "name": "stdout",
          "text": [
            "Mean of width: 1191.6404494382023, height :712.4719101123595, class :7.544943820224719\n",
            "xmin :444.2022471910112, ymin :311.89325842696627, xmax :646.6910112359551, ymax :516.4662921348314\n"
          ]
        }
      ]
    },
    {
      "cell_type": "code",
      "source": [
        "width_std = np.std(df['width'])\n",
        "height_std = np.std(df['height'])\n",
        "class_std = np.std(df['class'])\n",
        "xmin_std =np.std(df['xmin'])\n",
        "ymin_std =np.std(df['ymin'])\n",
        "xmax_std =np.std(df['xmax'])\n",
        "ymax_std =np.std(df['ymax'])\n",
        "\n",
        "print(f\"Standard Deviation of width: {width_std}, height :{height_std}, class :{class_std}\")\n",
        "print(f\" xmin :{xmin_std}, ymin :{ymin_std}, xmax : {xmax_std}, ymax : {ymax_std}\")"
      ],
      "metadata": {
        "colab": {
          "base_uri": "https://localhost:8080/"
        },
        "id": "YZiJOYZQQIzR",
        "outputId": "41ef89bb-01bd-4924-c584-2c19d509ffb9"
      },
      "execution_count": null,
      "outputs": [
        {
          "output_type": "stream",
          "name": "stdout",
          "text": [
            "Standard Deviation of width: 724.3160624781443, height :473.73197015616, class :4.0972314915952985\n",
            " xmin :329.2429921199822, ymin :247.5994065710305, xmax : 413.87057634500417, ymax : 329.8411117131086\n"
          ]
        }
      ]
    },
    {
      "cell_type": "code",
      "source": [
        "class_means = df.groupby('class')[['xmin', 'ymin', 'xmax', 'ymax']].mean()\n",
        "\n",
        "print(class_mean)\n",
        "\n",
        "class1 = 10\n",
        "class2 = 11\n",
        "\n",
        "centroid1 = class_means.loc[class1].values\n",
        "centroid2 = class_means.loc[class2].values\n",
        "distance = np.linalg.norm(centroid1 - centroid2)\n",
        "\n",
        "print(f\"Distance between class {class1} and class {class2} centroids is: {distance}\")"
      ],
      "metadata": {
        "colab": {
          "base_uri": "https://localhost:8080/"
        },
        "id": "lDukdAQEQI1i",
        "outputId": "afbca0f8-0ec3-4f30-a49b-e6692873f797"
      },
      "execution_count": null,
      "outputs": [
        {
          "output_type": "stream",
          "name": "stdout",
          "text": [
            "7.544943820224719\n",
            "Distance between class 10 and class 11 centroids is: 209.33287803527332\n"
          ]
        }
      ]
    },
    {
      "cell_type": "code",
      "source": [
        "width_values = df['width']\n",
        "width_values\n",
        "\n",
        "hist, bins = np.histogram(width_values, bins=10)\n",
        "\n",
        "mean_width = np.mean(width_values)\n",
        "variance_width = np.var(width_values)\n",
        "\n",
        "plt.text(0.7, 0.9, f'Mean: {mean_width:.2f}', transform=plt.gca().transAxes)\n",
        "plt.text(0.7, 0.85, f'Variance: {variance_width:.2f}', transform=plt.gca().transAxes)\n",
        "\n",
        "plt.hist(width_values, bins=10, edgecolor='black', alpha=0.7)\n",
        "plt.xlabel('Width')\n",
        "plt.ylabel('Frequency')\n",
        "plt.title('Histogram of Width')\n",
        "plt.grid(True)\n",
        "plt.show()"
      ],
      "metadata": {
        "colab": {
          "base_uri": "https://localhost:8080/",
          "height": 472
        },
        "id": "ZShdrc1gQI3y",
        "outputId": "6a909176-7632-46bb-e4df-01a8918aa0c2"
      },
      "execution_count": null,
      "outputs": [
        {
          "output_type": "display_data",
          "data": {
            "text/plain": [
              "<Figure size 640x480 with 1 Axes>"
            ],
            "image/png": "[encoded data removed]"
          },
          "metadata": {}
        }
      ]
    },
    {
      "cell_type": "code",
      "source": [
        "vector1 = df['xmax']\n",
        "vector2 = df['ymax']\n",
        "distances = []\n",
        "r_values = np.arange(1, 11)\n",
        "for r in r_values:\n",
        "    distance = np.power(np.abs(vector1 - vector2), r).sum() ** (1 / r)\n",
        "    distances.append(distance)\n",
        "\n",
        "plt.plot(r_values, distances, marker='o', linestyle='-')\n",
        "plt.xlabel('r')\n",
        "plt.ylabel('Minkowski Distance')\n",
        "plt.title('Minkowski Distance vs. r')\n",
        "plt.grid(True)\n",
        "plt.show()"
      ],
      "metadata": {
        "colab": {
          "base_uri": "https://localhost:8080/",
          "height": 507
        },
        "id": "rAFq68XBQI6M",
        "outputId": "552445d9-009a-4250-c4e2-9e0b5301e744"
      },
      "execution_count": null,
      "outputs": [
        {
          "output_type": "stream",
          "name": "stderr",
          "text": [
            "<ipython-input-8-cc61c950818c>:8: RuntimeWarning: invalid value encountered in double_scalars\n",
            "  distance = np.power(np.abs(vector1 - vector2), r).sum() ** (1 / r)\n"
          ]
        },
        {
          "output_type": "display_data",
          "data": {
            "text/plain": [
              "<Figure size 640x480 with 1 Axes>"
            ],
            "image/png": "[encoded data removed]"
          },
          "metadata": {}
        }
      ]
    },
    {
      "cell_type": "code",
      "source": [
        "from sklearn.model_selection import train_test_split\n",
        "list = ['width','height','xmin','ymin','xmax','ymax']\n",
        "X = df[list]\n",
        "y = df[\"class\"]\n",
        "\n",
        "X_train , X_test ,y_train  , y_test   = train_test_split(X,y,test_size=0.3)\n",
        "\n",
        "\n",
        "print(f\"X_train :{X_train}\")\n",
        "print(f\"X_test :{X_test}\")\n",
        "print(f\"y_train :{y_train}\")\n",
        "print(f\"y_test :{y_test}\")"
      ],
      "metadata": {
        "colab": {
          "base_uri": "https://localhost:8080/"
        },
        "id": "rKp5NaG7QI8e",
        "outputId": "7d8daf99-aa04-40c1-d3b0-9c44401fe21c"
      },
      "execution_count": null,
      "outputs": [
        {
          "output_type": "stream",
          "name": "stdout",
          "text": [
            "X_train :     width  height  xmin  ymin  xmax  ymax\n",
            "160   2304    1440   792   850   992  1104\n",
            "142   2304    1440   835   996  1492  1254\n",
            "90    2304    1440  1008   630  1260  1040\n",
            "71     720     404   302   174   443   268\n",
            "18     720     404   273   180   358   259\n",
            "..     ...     ...   ...   ...   ...   ...\n",
            "42     720     404   264   205   393   376\n",
            "176   2304    1440   837   998  1456  1242\n",
            "167    720     404   273   154   395   299\n",
            "124    720     404   163    74   279   299\n",
            "63     720     404   150    38   324   253\n",
            "\n",
            "[124 rows x 6 columns]\n",
            "X_test :     width  height  xmin  ymin  xmax  ymax\n",
            "79    2304    1440  1060   492  1422   934\n",
            "67    2304    1440   801   878   981  1096\n",
            "37     720     404   244   232   383   396\n",
            "169    720     404   267   149   398   301\n",
            "49     720     404   136    20   304   247\n",
            "137    720     404   262   126   385   290\n",
            "153   2304    1440   992   788  1230  1126\n",
            "57     720     404   253   133   390   283\n",
            "22    2304    1440   949   698  1257  1006\n",
            "69     720     404   285   208   461   336\n",
            "95     720     404   266   159   375   296\n",
            "121   2304    1440   996   362  1131   836\n",
            "76     720     404   184   286   276   367\n",
            "106   2304    1440   952   700  1249   998\n",
            "36    2304    1440  1093   740  1534  1000\n",
            "107    720     404   166   282   489   395\n",
            "21     720     404   284   202   463   341\n",
            "39    2304    1440   851   962  1512  1220\n",
            "122    720     404   278   168   368   308\n",
            "0      720     404   138    11   295   211\n",
            "55    2304    1440   940   492  1161  1000\n",
            "148    720     404   209    65   289   279\n",
            "35    2304    1440   706   270   983   986\n",
            "134    720     404   194   273   429   391\n",
            "12     720     404   165   268   269   360\n",
            "31     720     404   156    23   339   245\n",
            "47     720     404   293   199   454   313\n",
            "77     720     404   292   194   443   312\n",
            "110    720     404   303   205   484   319\n",
            "82     720     404   164   277   469   364\n",
            "41     720     404   141    24   304   214\n",
            "27     720     404   156   280   276   369\n",
            "53     720     404   147    36   251   294\n",
            "113   2304    1440  1087   492  1433   930\n",
            "83     720     404   149   182   252   299\n",
            "54     720     404   271   213   468   349\n",
            "129    720     404   287   232   365   376\n",
            "92     720     404   230    25   312   102\n",
            "61    2304    1440   943   448  1141   980\n",
            "128    720     404   282    91   401   157\n",
            "33    2304    1440  1093   748  1534  1008\n",
            "99    2304    1440   800   298  1066   568\n",
            "111   2304    1440   774   898  1552  1126\n",
            "170    720     404   145    42   313   250\n",
            "48     720     404   284   240   433   339\n",
            "119    720     404   295   225   474   325\n",
            "11    2304    1440   990   384  1130   828\n",
            "7      720     404   231   269   426   386\n",
            "87     720     404   282   287   433   404\n",
            "43     720     404   236   272   384   381\n",
            "20    2304    1440  1014   806  1293  1112\n",
            "88     720     404   267   149   438   243\n",
            "17     720     404   245   138   381   276\n",
            "126   2304    1440   911   530  1260   928\n",
            "y_train :160    11\n",
            "142     2\n",
            "90      7\n",
            "71     13\n",
            "18      0\n",
            "       ..\n",
            "42      9\n",
            "176     2\n",
            "167     9\n",
            "124     5\n",
            "63      6\n",
            "Name: class, Length: 124, dtype: int64\n",
            "y_test :79      8\n",
            "67     11\n",
            "37      7\n",
            "169     9\n",
            "49      6\n",
            "137     7\n",
            "153     3\n",
            "57      1\n",
            "22      1\n",
            "69     13\n",
            "95      7\n",
            "121     5\n",
            "76     11\n",
            "106     1\n",
            "36     13\n",
            "107     2\n",
            "21     13\n",
            "39      2\n",
            "122     3\n",
            "0       6\n",
            "55     12\n",
            "148     5\n",
            "35      6\n",
            "134    10\n",
            "12     11\n",
            "31      6\n",
            "47     13\n",
            "77     13\n",
            "110     9\n",
            "82     10\n",
            "41      6\n",
            "27     11\n",
            "53      5\n",
            "113     8\n",
            "83     11\n",
            "54     13\n",
            "129     3\n",
            "92      4\n",
            "61     12\n",
            "128     0\n",
            "33     13\n",
            "99      4\n",
            "111     2\n",
            "170     6\n",
            "48     13\n",
            "119    13\n",
            "11      5\n",
            "7      10\n",
            "87     13\n",
            "43      1\n",
            "20      9\n",
            "88     13\n",
            "17      1\n",
            "126     1\n",
            "Name: class, dtype: int64\n"
          ]
        }
      ]
    },
    {
      "cell_type": "code",
      "source": [
        "from  sklearn.neighbors import KNeighborsClassifier\n",
        "neigh = KNeighborsClassifier(n_neighbors=3) # n_neighbors default is 5\n",
        "\n",
        "neigh.fit(X,y)"
      ],
      "metadata": {
        "colab": {
          "base_uri": "https://localhost:8080/",
          "height": 74
        },
        "id": "FQaVN97GQI-q",
        "outputId": "4d6983af-7d48-4387-c2ea-6baa66326447"
      },
      "execution_count": null,
      "outputs": [
        {
          "output_type": "execute_result",
          "data": {
            "text/plain": [
              "KNeighborsClassifier(n_neighbors=3)"
            ],
            "text/html": [
              "<style>#sk-container-id-1 {color: black;background-color: white;}#sk-container-id-1 pre{padding: 0;}#sk-container-id-1 div.sk-toggleable {background-color: white;}#sk-container-id-1 label.sk-toggleable__label {cursor: pointer;display: block;width: 100%;margin-bottom: 0;padding: 0.3em;box-sizing: border-box;text-align: center;}#sk-container-id-1 label.sk-toggleable__label-arrow:before {content: \"▸\";float: left;margin-right: 0.25em;color: #696969;}#sk-container-id-1 label.sk-toggleable__label-arrow:hover:before {color: black;}#sk-container-id-1 div.sk-estimator:hover label.sk-toggleable__label-arrow:before {color: black;}#sk-container-id-1 div.sk-toggleable__content {max-height: 0;max-width: 0;overflow: hidden;text-align: left;background-color: #f0f8ff;}#sk-container-id-1 div.sk-toggleable__content pre {margin: 0.2em;color: black;border-radius: 0.25em;background-color: #f0f8ff;}#sk-container-id-1 input.sk-toggleable__control:checked~div.sk-toggleable__content {max-height: 200px;max-width: 100%;overflow: auto;}#sk-container-id-1 input.sk-toggleable__control:checked~label.sk-toggleable__label-arrow:before {content: \"▾\";}#sk-container-id-1 div.sk-estimator input.sk-toggleable__control:checked~label.sk-toggleable__label {background-color: #d4ebff;}#sk-container-id-1 div.sk-label input.sk-toggleable__control:checked~label.sk-toggleable__label {background-color: #d4ebff;}#sk-container-id-1 input.sk-hidden--visually {border: 0;clip: rect(1px 1px 1px 1px);clip: rect(1px, 1px, 1px, 1px);height: 1px;margin: -1px;overflow: hidden;padding: 0;position: absolute;width: 1px;}#sk-container-id-1 div.sk-estimator {font-family: monospace;background-color: #f0f8ff;border: 1px dotted black;border-radius: 0.25em;box-sizing: border-box;margin-bottom: 0.5em;}#sk-container-id-1 div.sk-estimator:hover {background-color: #d4ebff;}#sk-container-id-1 div.sk-parallel-item::after {content: \"\";width: 100%;border-bottom: 1px solid gray;flex-grow: 1;}#sk-container-id-1 div.sk-label:hover label.sk-toggleable__label {background-color: #d4ebff;}#sk-container-id-1 div.sk-serial::before {content: \"\";position: absolute;border-left: 1px solid gray;box-sizing: border-box;top: 0;bottom: 0;left: 50%;z-index: 0;}#sk-container-id-1 div.sk-serial {display: flex;flex-direction: column;align-items: center;background-color: white;padding-right: 0.2em;padding-left: 0.2em;position: relative;}#sk-container-id-1 div.sk-item {position: relative;z-index: 1;}#sk-container-id-1 div.sk-parallel {display: flex;align-items: stretch;justify-content: center;background-color: white;position: relative;}#sk-container-id-1 div.sk-item::before, #sk-container-id-1 div.sk-parallel-item::before {content: \"\";position: absolute;border-left: 1px solid gray;box-sizing: border-box;top: 0;bottom: 0;left: 50%;z-index: -1;}#sk-container-id-1 div.sk-parallel-item {display: flex;flex-direction: column;z-index: 1;position: relative;background-color: white;}#sk-container-id-1 div.sk-parallel-item:first-child::after {align-self: flex-end;width: 50%;}#sk-container-id-1 div.sk-parallel-item:last-child::after {align-self: flex-start;width: 50%;}#sk-container-id-1 div.sk-parallel-item:only-child::after {width: 0;}#sk-container-id-1 div.sk-dashed-wrapped {border: 1px dashed gray;margin: 0 0.4em 0.5em 0.4em;box-sizing: border-box;padding-bottom: 0.4em;background-color: white;}#sk-container-id-1 div.sk-label label {font-family: monospace;font-weight: bold;display: inline-block;line-height: 1.2em;}#sk-container-id-1 div.sk-label-container {text-align: center;}#sk-container-id-1 div.sk-container {/* jupyter's `normalize.less` sets `[hidden] { display: none; }` but bootstrap.min.css set `[hidden] { display: none !important; }` so we also need the `!important` here to be able to override the default hidden behavior on the sphinx rendered scikit-learn.org. See: https://github.com/scikit-learn/scikit-learn/issues/21755 */display: inline-block !important;position: relative;}#sk-container-id-1 div.sk-text-repr-fallback {display: none;}</style><div id=\"sk-container-id-1\" class=\"sk-top-container\"><div class=\"sk-text-repr-fallback\"><pre>KNeighborsClassifier(n_neighbors=3)</pre><b>In a Jupyter environment, please rerun this cell to show the HTML representation or trust the notebook. <br />On GitHub, the HTML representation is unable to render, please try loading this page with nbviewer.org.</b></div><div class=\"sk-container\" hidden><div class=\"sk-item\"><div class=\"sk-estimator sk-toggleable\"><input class=\"sk-toggleable__control sk-hidden--visually\" id=\"sk-estimator-id-1\" type=\"checkbox\" checked><label for=\"sk-estimator-id-1\" class=\"sk-toggleable__label sk-toggleable__label-arrow\">KNeighborsClassifier</label><div class=\"sk-toggleable__content\"><pre>KNeighborsClassifier(n_neighbors=3)</pre></div></div></div></div></div>"
            ]
          },
          "metadata": {},
          "execution_count": 10
        }
      ]
    },
    {
      "cell_type": "code",
      "source": [
        "neigh_score_k3 = neigh.score(X_test, y_test)\n",
        "print(neigh_score_k3)"
      ],
      "metadata": {
        "colab": {
          "base_uri": "https://localhost:8080/"
        },
        "id": "LKMWk1VqQJBS",
        "outputId": "f2d28bce-9782-4379-8dc3-df4a56a3ade0"
      },
      "execution_count": null,
      "outputs": [
        {
          "output_type": "stream",
          "name": "stdout",
          "text": [
            "0.9259259259259259\n"
          ]
        }
      ]
    },
    {
      "cell_type": "code",
      "source": [
        "print(neigh.predict(X_test))"
      ],
      "metadata": {
        "colab": {
          "base_uri": "https://localhost:8080/"
        },
        "id": "1VjzM2BRRo37",
        "outputId": "65132786-6a8a-4e3f-b71c-c76614351ee1"
      },
      "execution_count": null,
      "outputs": [
        {
          "output_type": "stream",
          "name": "stdout",
          "text": [
            "[ 8 11  7  9  6  1  3  1  1 13  3  5 11  1 13  2 13  2  3  6 12  5  6 10\n",
            " 11  6 13 13  9  2  6 11  5  8 11 13  3  4 12  0 13  4  2  6 13 13  5 10\n",
            " 13  1  9  8  1  1]\n"
          ]
        }
      ]
    },
    {
      "cell_type": "code",
      "source": [
        "neigh = KNeighborsClassifier(n_neighbors=1)\n",
        "neigh.fit(X, y)\n",
        "neigh_score_k1=neigh.score(X_test, y_test)\n",
        "print(neigh.predict(X_test))\n",
        "print(f'Accuracy prediction of : k=1: {neigh_score_k1} and for k=3: {neigh_score_k3}')\n",
        "\n",
        "x_axis= np.arange(1,12)\n",
        "y_axis=[]\n",
        "\n",
        "for i in range(1,12):\n",
        "    neigh = KNeighborsClassifier(n_neighbors=i)\n",
        "    neigh.fit(X, y)\n",
        "    y_axis.append(neigh.score(X_test, y_test))\n",
        "\n",
        "plt.bar(x_axis,y_axis,color='blue')\n",
        "plt.xlabel('K values')\n",
        "plt.ylabel('Accuracy Score')\n",
        "plt.title('K values vs Accuarcy Score')\n",
        "plt.show()"
      ],
      "metadata": {
        "colab": {
          "base_uri": "https://localhost:8080/",
          "height": 541
        },
        "id": "hgFmBpBnRo7P",
        "outputId": "d2b51c57-bbc8-4ea5-9fdf-5026445b5bef"
      },
      "execution_count": null,
      "outputs": [
        {
          "output_type": "stream",
          "name": "stdout",
          "text": [
            "[ 8 11  7  9  6  7  3  1  1 13  7  5 11  1 13  2 13  2  3  6 12  5  6 10\n",
            " 11  6 13 13  9 10  6 11  5  8 11 13  3  4 12  0 13  4  2  6 13 13  5 10\n",
            " 13  1  9 13  1  1]\n",
            "Accuracy prediction of : k=1: 1.0 and for k=3: 0.9259259259259259\n"
          ]
        },
        {
          "output_type": "display_data",
          "data": {
            "text/plain": [
              "<Figure size 640x480 with 1 Axes>"
            ],
            "image/png": "[encoded data removed]"
          },
          "metadata": {}
        }
      ]
    }
  ]
}