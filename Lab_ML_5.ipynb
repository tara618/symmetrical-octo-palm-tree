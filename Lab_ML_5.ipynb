{
  "nbformat": 4,
  "nbformat_minor": 0,
  "metadata": {
    "colab": {
      "provenance": [],
      "authorship_tag": "ABX9TyMlxwcnHqixuTS8E9/OTOLz",
      "include_colab_link": true
    },
    "kernelspec": {
      "name": "python3",
      "display_name": "Python 3"
    },
    "language_info": {
      "name": "python"
    }
  },
  "cells": [
    {
      "cell_type": "markdown",
      "metadata": {
        "id": "view-in-github",
        "colab_type": "text"
      },
      "source": [
        "<a href=\"https://colab.research.google.com/github/tara618/symmetrical-octo-palm-tree/blob/main/Lab_ML_5.ipynb\" target=\"_parent\"><img src=\"https://colab.research.google.com/assets/colab-badge.svg\" alt=\"Open In Colab\"/></a>"
      ]
    },
    {
      "cell_type": "code",
      "execution_count": 1,
      "metadata": {
        "id": "NY7ptg_cZFwX"
      },
      "outputs": [],
      "source": [
        "import pandas as pd\n",
        "import numpy as np"
      ]
    },
    {
      "cell_type": "code",
      "source": [
        "def weight_update(q, w, x = 1):\n",
        "    return w + q * x\n",
        "\n",
        "def calculate_new_weight(t, y, w, alpha, x=None):\n",
        "    q = alpha * (t - y)\n",
        "    temp = []\n",
        "    if x == None:\n",
        "        return w + q\n",
        "\n",
        "    for i in range(len(w)):\n",
        "        temp.append(weight_update(q, w[i], x[i]))\n",
        "    return temp\n",
        "\n",
        "def y_input(x, w, b):\n",
        "    sum = 0\n",
        "    for i in range(len(x)):\n",
        "        sum = sum + x[i] * w[i]\n",
        "    return sum + b\n",
        "\n",
        "def step_function(y_in):\n",
        "    if y_in >= 0:\n",
        "        return 1\n",
        "    else:\n",
        "        return 0\n",
        "\n",
        "def bi_polar_step_function(y_in):\n",
        "    if y_in > 0:\n",
        "        return 1\n",
        "    elif y_in == 0:\n",
        "        return 0\n",
        "    else:\n",
        "        return -1\n",
        "\n",
        "def sigmoid_function(y_in):\n",
        "    return 1/(1 + np.exp(-y_in))\n",
        "\n",
        "def relu_function(y_in):\n",
        "    if y_in > 0:\n",
        "        return y_in\n",
        "    else:\n",
        "        return 0\n",
        "\n",
        "def activation_function(y_in, acti_func):\n",
        "    if acti_func == 'step':\n",
        "        return step_function(y_in)\n",
        "    elif acti_func == 'bpstep':\n",
        "        return bi_polar_step_function(y_in)\n",
        "    elif acti_func == 'sigmoid':\n",
        "        return sigmoid_function(y_in)\n",
        "    elif acti_func == 'relu':\n",
        "        return relu_function(y_in)\n",
        "    else:\n",
        "        pass\n",
        "\n",
        "def sum_square_error(y, y_bar):\n",
        "    sum = 0\n",
        "    for i in range(len(y_bar)):\n",
        "        sum = sum + (y[i] - y_bar[i])**2\n",
        "    return sum / len(y)\n",
        "\n",
        "def perceptron(x, z, w, b, alpha, acti_func, error=0.002):\n",
        "    data = {}\n",
        "    error_list = []\n",
        "    k = 0\n",
        "    err = 1\n",
        "\n",
        "    while err > error and k <= 1000:\n",
        "        y_pred = []\n",
        "\n",
        "        for i in range(len(x)):\n",
        "            y_in = y_input(x[i], w, b)\n",
        "            y = activation_function(y_in, acti_func)\n",
        "            y_pred.append(y)\n",
        "\n",
        "            if y != z[i]:\n",
        "                w = calculate_new_weight(z[i], y, w, alpha, x[i])\n",
        "                b = calculate_new_weight(z[i], y, b, alpha)\n",
        "\n",
        "        err = sum_square_error(z, y_pred)\n",
        "        error_list.append(err)\n",
        "        k = k + 1\n",
        "\n",
        "    data['epoch'] = k\n",
        "    data['weights'] = w\n",
        "    data['bias'] = b\n",
        "    data['error_values'] = error_list\n",
        "    return data"
      ],
      "metadata": {
        "id": "ibpFxRDHZRoi"
      },
      "execution_count": 3,
      "outputs": []
    },
    {
      "cell_type": "code",
      "source": [
        "x = [[0, 0], [0, 1], [1, 0], [1, 1]]\n",
        "z = [0, 0, 0, 1]\n",
        "w = [0.2, -0.75]\n",
        "b = 10\n",
        "a = 0.05\n",
        "\n",
        "data = perceptron(x, z, w, b, a, acti_func='step')\n",
        "print(\"Number of epochs: \", data['epoch'])\n",
        "print(\"Final weights: \", data['weights'])"
      ],
      "metadata": {
        "colab": {
          "base_uri": "https://localhost:8080/"
        },
        "id": "U3ZW9A3iZRq7",
        "outputId": "b1382fd1-07da-4eda-fa85-71b32333efd2"
      },
      "execution_count": 4,
      "outputs": [
        {
          "output_type": "stream",
          "name": "stdout",
          "text": [
            "Number of epochs:  130\n",
            "Final weights:  [0.1000000000000001, 0.05000000000000032]\n"
          ]
        }
      ]
    },
    {
      "cell_type": "code",
      "source": [
        "import matplotlib.pyplot as plt\n",
        "plt.plot([i for i in range(1, data['epoch'] + 1)], data['error_values'])"
      ],
      "metadata": {
        "colab": {
          "base_uri": "https://localhost:8080/",
          "height": 447
        },
        "id": "SuYqJRUPZRtJ",
        "outputId": "5954d4ee-1161-4676-c3d3-5ad4904fe183"
      },
      "execution_count": 5,
      "outputs": [
        {
          "output_type": "execute_result",
          "data": {
            "text/plain": [
              "[<matplotlib.lines.Line2D at 0x7acd30372320>]"
            ]
          },
          "metadata": {},
          "execution_count": 5
        },
        {
          "output_type": "display_data",
          "data": {
            "text/plain": [
              "<Figure size 640x480 with 1 Axes>"
            ],
            "image/png": "[encoded data removed]"
          },
          "metadata": {}
        }
      ]
    },
    {
      "cell_type": "code",
      "source": [
        "epoch_list = []\n",
        "lst = ['step', 'bpstep', 'sigmoid', 'relu']\n",
        "for i in lst:\n",
        "    data = perceptron(x, z, w, b, a, acti_func=i)\n",
        "    epoch_list.append(data['epoch'])\n",
        "\n",
        "plt.bar(lst, epoch_list)"
      ],
      "metadata": {
        "colab": {
          "base_uri": "https://localhost:8080/",
          "height": 447
        },
        "id": "M9L4ph-KZRvy",
        "outputId": "1f80eab8-be4b-4f43-b00b-e404f75654ea"
      },
      "execution_count": 6,
      "outputs": [
        {
          "output_type": "execute_result",
          "data": {
            "text/plain": [
              "<BarContainer object of 4 artists>"
            ]
          },
          "metadata": {},
          "execution_count": 6
        },
        {
          "output_type": "display_data",
          "data": {
            "text/plain": [
              "<Figure size 640x480 with 1 Axes>"
            ],
            "image/png": "[encoded data removed]"
          },
          "metadata": {}
        }
      ]
    },
    {
      "cell_type": "code",
      "source": [
        "rates = [0.1, 0.2, 0.3, 0.4, 0.5, 0.6, 0.7, 0.8, 0.9, 1.0]\n",
        "\n",
        "x = [[0, 0], [0, 1], [1, 0], [1, 1]]\n",
        "z = [0, 0, 0, 1]\n",
        "w = [0.2, -0.75]\n",
        "b = 10\n",
        "\n",
        "iters = []\n",
        "\n",
        "for i in rates:\n",
        "    data = perceptron(x, z, w, b, i, acti_func='step')\n",
        "    iters.append(data['epoch'])\n",
        "\n",
        "plt.plot(rates, iters)"
      ],
      "metadata": {
        "colab": {
          "base_uri": "https://localhost:8080/",
          "height": 448
        },
        "id": "1EoTicsLZRyL",
        "outputId": "54777080-6e4e-4ce2-a319-58a1ce18637d"
      },
      "execution_count": 7,
      "outputs": [
        {
          "output_type": "execute_result",
          "data": {
            "text/plain": [
              "[<matplotlib.lines.Line2D at 0x7acd30188a90>]"
            ]
          },
          "metadata": {},
          "execution_count": 7
        },
        {
          "output_type": "display_data",
          "data": {
            "text/plain": [
              "<Figure size 640x480 with 1 Axes>"
            ],
            "image/png": "[encoded data removed]"
          },
          "metadata": {}
        }
      ]
    },
    {
      "cell_type": "code",
      "source": [
        "x = [[0, 0], [0, 1], [1, 0], [1, 1]]\n",
        "z = [0, 1, 1, 0]\n",
        "w = [0.2, -0.75]\n",
        "b = 10\n",
        "a = 0.05\n",
        "\n",
        "data = perceptron(x, z, w, b, a, acti_func='step')\n",
        "print(\"Number of epochs: \", data['epoch'])\n",
        "print(\"Final weights: \", data['weights'])"
      ],
      "metadata": {
        "colab": {
          "base_uri": "https://localhost:8080/"
        },
        "id": "rAeGZB5VZR0t",
        "outputId": "5b19926e-2c7c-4002-ffd2-cc3758b0e732"
      },
      "execution_count": 8,
      "outputs": [
        {
          "output_type": "stream",
          "name": "stdout",
          "text": [
            "Number of epochs:  1001\n",
            "Final weights:  [-0.09999999999999969, -0.09999999999999969]\n"
          ]
        }
      ]
    },
    {
      "cell_type": "code",
      "source": [
        "import matplotlib.pyplot as plt\n",
        "plt.figure(figsize=(10, 10))\n",
        "plt.plot([i for i in range(1, data['epoch'] + 1)], data['error_values'])"
      ],
      "metadata": {
        "colab": {
          "base_uri": "https://localhost:8080/",
          "height": 847
        },
        "id": "MSgGSjGuZR27",
        "outputId": "3cc2e85c-3390-4a55-b9ef-0739701a4863"
      },
      "execution_count": 9,
      "outputs": [
        {
          "output_type": "execute_result",
          "data": {
            "text/plain": [
              "[<matplotlib.lines.Line2D at 0x7acd301f9210>]"
            ]
          },
          "metadata": {},
          "execution_count": 9
        },
        {
          "output_type": "display_data",
          "data": {
            "text/plain": [
              "<Figure size 1000x1000 with 1 Axes>"
            ],
            "image/png": "[encoded data removed]"
          },
          "metadata": {}
        }
      ]
    },
    {
      "cell_type": "code",
      "source": [
        "epoch_list = []\n",
        "lst = ['step', 'bpstep', 'sigmoid', 'relu']\n",
        "for i in lst:\n",
        "    data = perceptron(x, z, w, b, a, acti_func=i)\n",
        "    epoch_list.append(data['epoch'])\n",
        "\n",
        "plt.bar(lst, epoch_list)"
      ],
      "metadata": {
        "colab": {
          "base_uri": "https://localhost:8080/",
          "height": 447
        },
        "id": "zI1cYx0aZR5V",
        "outputId": "1c6fc4f4-4ab9-420b-d122-f0da63f86ec9"
      },
      "execution_count": 10,
      "outputs": [
        {
          "output_type": "execute_result",
          "data": {
            "text/plain": [
              "<BarContainer object of 4 artists>"
            ]
          },
          "metadata": {},
          "execution_count": 10
        },
        {
          "output_type": "display_data",
          "data": {
            "text/plain": [
              "<Figure size 640x480 with 1 Axes>"
            ],
            "image/png": "[encoded data removed]"
          },
          "metadata": {}
        }
      ]
    },
    {
      "cell_type": "code",
      "source": [
        "rates = [0.1, 0.2, 0.3, 0.4, 0.5, 0.6, 0.7, 0.8, 0.9, 1.0]\n",
        "\n",
        "x = [[0, 0], [0, 1], [1, 0], [1, 1]]\n",
        "z = [0, 1, 1, 0]\n",
        "w = [0.2, -0.75]\n",
        "b = 10\n",
        "\n",
        "iters = []\n",
        "\n",
        "for i in rates:\n",
        "    data = perceptron(x, z, w, b, i, acti_func='step')\n",
        "    iters.append(data['epoch'])\n",
        "\n",
        "plt.plot(rates, iters)"
      ],
      "metadata": {
        "colab": {
          "base_uri": "https://localhost:8080/",
          "height": 447
        },
        "id": "k80QWLxMZR7t",
        "outputId": "8757c0e5-8868-4656-f31e-6ae57818bce9"
      },
      "execution_count": 11,
      "outputs": [
        {
          "output_type": "execute_result",
          "data": {
            "text/plain": [
              "[<matplotlib.lines.Line2D at 0x7acd300ded10>]"
            ]
          },
          "metadata": {},
          "execution_count": 11
        },
        {
          "output_type": "display_data",
          "data": {
            "text/plain": [
              "<Figure size 640x480 with 1 Axes>"
            ],
            "image/png": "[encoded data removed]"
          },
          "metadata": {}
        }
      ]
    },
    {
      "cell_type": "code",
      "source": [
        "df = pd.read_excel(\"mlab.xlsx\")\n",
        "df = df.iloc[:, :5]\n",
        "df['High Value Tx?'] = ['Yes'] * 3 + ['No', 'Yes'] * 2 + ['Yes'] + ['No'] *2"
      ],
      "metadata": {
        "id": "Hsk_8DCBZR-L"
      },
      "execution_count": 13,
      "outputs": []
    },
    {
      "cell_type": "code",
      "source": [
        "def mod_perceptron(x, z, w, b, alpha, acti_func, error=0.002):\n",
        "\n",
        "    data = {}\n",
        "    error_list = []\n",
        "\n",
        "    k = 0\n",
        "    err = 1\n",
        "\n",
        "    while err > error and k <= 1000:\n",
        "        y_pred = []\n",
        "\n",
        "        for i in range(x.shape[0]):\n",
        "            y_in = y_input(x.iloc[i].tolist(), w, b)\n",
        "            y = activation_function(y_in, acti_func)\n",
        "            y_pred.append(y)\n",
        "            if y != z[i]:\n",
        "                w = calculate_new_weight(z[i], y, w, alpha, x.iloc[i].tolist())\n",
        "                b = calculate_new_weight(z[i], y, b, alpha)\n",
        "\n",
        "        err = sum_square_error(z, y_pred)\n",
        "        error_list.append(err)\n",
        "        k = k + 1\n",
        "\n",
        "    data['epoch'] = k\n",
        "    data['weights'] = w\n",
        "    data['bias'] = b\n",
        "    data['error_values'] = error_list\n",
        "    return data\n",
        "\n",
        "x = df.iloc[:, 1:4]\n",
        "z = df['Payment (Rs)'].tolist()\n",
        "w = [0.000002, 0.000003, -0.000001]\n",
        "b = 0.000006\n",
        "a = 1\n",
        "\n",
        "data = mod_perceptron(x, z, w, b, a, acti_func = 'sigmoid')\n",
        "print(\"Weights are: \", data['weights'])"
      ],
      "metadata": {
        "id": "UPXfWfqTZSHY"
      },
      "execution_count": null,
      "outputs": []
    },
    {
      "cell_type": "code",
      "source": [
        "matrix_A = df.iloc[:, 1:4].to_numpy()\n",
        "matrix_b = df['Payment (Rs)'].to_numpy()\n",
        "\n",
        "pinv_A = np.linalg.pinv(matrix_A)\n",
        "result = pinv_A @ matrix_b"
      ],
      "metadata": {
        "id": "EiOW6LIPZSNU"
      },
      "execution_count": null,
      "outputs": []
    },
    {
      "cell_type": "code",
      "source": [
        "def neural_network(l):\n",
        "    return None"
      ],
      "metadata": {
        "id": "fY62l2I0cpZI"
      },
      "execution_count": 22,
      "outputs": []
    },
    {
      "cell_type": "code",
      "source": [
        "import numpy as np\n",
        "\n",
        "def sigmoid(x):\n",
        "    return 1 / (1 + np.exp(-x))\n",
        "\n",
        "def sigmoid_derivative(x):\n",
        "    return x * (1 - x)\n",
        "\n",
        "input_neurons = 2\n",
        "hidden_neurons = 2\n",
        "output_neurons = 1\n",
        "\n",
        "hidden_weights = 2 * np.random.rand(input_neurons, hidden_neurons) - 1\n",
        "output_weights = 2 * np.random.rand(hidden_neurons, output_neurons) - 1\n",
        "\n",
        "hidden_bias = np.random.rand(1, hidden_neurons)\n",
        "output_bias = np.random.rand(1, output_neurons)\n",
        "\n",
        "alpha = 0.05\n",
        "\n",
        "X = np.array([[0, 0], [0, 1], [1, 0], [1, 1]])\n",
        "y = np.array([[0], [0], [0], [1]])\n",
        "\n",
        "epochs = 1000\n",
        "convergence_error = 0.002\n",
        "\n",
        "for epoch in range(epochs):\n",
        "    hidden_layer_input = np.dot(X, hidden_weights) + hidden_bias\n",
        "    hidden_layer_output = sigmoid(hidden_layer_input)\n",
        "    output_layer_input = np.dot(hidden_layer_output, output_weights) + output_bias\n",
        "    output_layer_output = sigmoid(output_layer_input)\n",
        "\n",
        "    error = y - output_layer_output\n",
        "    loss = 0.5 * np.mean(error ** 2)\n",
        "\n",
        "    output_delta = error * sigmoid_derivative(output_layer_output)\n",
        "    hidden_layer_error = output_delta.dot(output_weights.T)\n",
        "    hidden_layer_delta = hidden_layer_error * sigmoid_derivative(hidden_layer_output)\n",
        "\n",
        "    output_weights += alpha * hidden_layer_output.T.dot(output_delta)\n",
        "    output_bias += alpha * np.sum(output_delta, axis=0, keepdims=True)\n",
        "    hidden_weights += alpha * X.T.dot(hidden_layer_delta)\n",
        "    hidden_bias += alpha * np.sum(hidden_layer_delta, axis=0, keepdims=True)\n",
        "\n",
        "    if loss <= convergence_error:\n",
        "        print(f\"Converged after {epoch + 1} epochs with loss: {loss}\")\n",
        "        break\n",
        "\n",
        "    if epoch % 100 == 0:\n",
        "        print(f\"Epoch {epoch}, Loss: {loss}, HiddenWeights: {hidden_weights}, OutputWeights: {output_weights}\\n\")\n",
        "\n",
        "test_inputs = np.array([[0, 0], [0, 1], [1, 0], [1, 1]])\n",
        "import numpy as np\n",
        "\n",
        "def sigmoid(x):\n",
        "    return 1 / (1 + np.exp(-x))\n",
        "\n",
        "def predict_outputs(test_inputs, hidden_weights, hidden_bias, output_weights, output_bias):\n",
        "    hidden_layer_output = sigmoid(np.dot(test_inputs, hidden_weights) + hidden_bias)\n",
        "    final_output = sigmoid(np.dot(hidden_layer_output, output_weights) + output_bias)\n",
        "    predicted_outputs = np.round(final_output)\n",
        "\n",
        "    return predicted_outputs\n",
        "\n",
        "predicted_outputs = np.round(predict_outputs(test_inputs, hidden_weights, hidden_bias, output_weights, output_bias))\n",
        "\n",
        "print(\"Predicted Outputs:\")\n",
        "for i in range(len(test_inputs)):\n",
        "    print(f\"{test_inputs[i]} -> {predicted_outputs[i][0]}\")"
      ],
      "metadata": {
        "colab": {
          "base_uri": "https://localhost:8080/"
        },
        "id": "KXt4u9P0cpbH",
        "outputId": "45c5556c-b02c-4854-a331-c2b8beed7653"
      },
      "execution_count": 23,
      "outputs": [
        {
          "output_type": "stream",
          "name": "stdout",
          "text": [
            "Epoch 0, Loss: 0.1849943117024214, HiddenWeights: [[ 0.88092848  0.42534751]\n",
            " [-0.01562009  0.78937175]], OutputWeights: [[ 0.39919715]\n",
            " [-0.52167154]]\n",
            "\n",
            "Epoch 100, Loss: 0.0990589549463387, HiddenWeights: [[ 0.87825046  0.43389306]\n",
            " [-0.02161758  0.78307898]], OutputWeights: [[-0.1009624 ]\n",
            " [-1.04307764]]\n",
            "\n",
            "Epoch 200, Loss: 0.09779077975348723, HiddenWeights: [[ 0.87155893  0.41326485]\n",
            " [-0.02586998  0.75245514]], OutputWeights: [[-0.12302695]\n",
            " [-1.0698825 ]]\n",
            "\n",
            "Epoch 300, Loss: 0.0973398107738497, HiddenWeights: [[ 0.86506502  0.38945168]\n",
            " [-0.03026757  0.71990346]], OutputWeights: [[-0.09976332]\n",
            " [-1.05208673]]\n",
            "\n",
            "Epoch 400, Loss: 0.09695178087822338, HiddenWeights: [[ 0.86016543  0.36487461]\n",
            " [-0.03363298  0.68708566]], OutputWeights: [[-0.06792751]\n",
            " [-1.02849868]]\n",
            "\n",
            "Epoch 500, Loss: 0.09659406376220651, HiddenWeights: [[ 0.8571719   0.33984092]\n",
            " [-0.03569978  0.65412548]], OutputWeights: [[-0.03399514]\n",
            " [-1.00600725]]\n",
            "\n",
            "Epoch 600, Loss: 0.09625889342050896, HiddenWeights: [[ 0.8561861   0.31429864]\n",
            " [-0.03638224  0.62089418]], OutputWeights: [[ 8.25115344e-04]\n",
            " [-9.85938903e-01]]\n",
            "\n",
            "Epoch 700, Loss: 0.0959400831242782, HiddenWeights: [[ 0.85726391  0.28811576]\n",
            " [-0.03563416  0.58720621]], OutputWeights: [[ 0.03642359]\n",
            " [-0.9684938 ]]\n",
            "\n",
            "Epoch 800, Loss: 0.09563183696796326, HiddenWeights: [[ 0.86044954  0.26113162]\n",
            " [-0.03342094  0.55285324]], OutputWeights: [[ 0.07292837]\n",
            " [-0.95366963]]\n",
            "\n",
            "Epoch 900, Loss: 0.09532849145738975, HiddenWeights: [[ 0.86578236  0.23316232]\n",
            " [-0.02971451  0.51760522]], OutputWeights: [[ 0.11052353]\n",
            " [-0.94145798]]\n",
            "\n",
            "Predicted Outputs:\n",
            "[0 0] -> 0.0\n",
            "[0 1] -> 0.0\n",
            "[1 0] -> 0.0\n",
            "[1 1] -> 0.0\n"
          ]
        }
      ]
    },
    {
      "cell_type": "code",
      "source": [
        "def sigmoid(x):\n",
        "    return 1 / (1 + np.exp(-x))\n",
        "\n",
        "def sigmoid_derivative(x):\n",
        "    return x * (1 - x)\n",
        "\n",
        "input_neurons = 2\n",
        "hidden_neurons = 2\n",
        "output_neurons = 1\n",
        "hidden_weights = 2 * np.random.rand(input_neurons, hidden_neurons) - 1\n",
        "output_weights = 2 * np.random.rand(hidden_neurons, output_neurons) - 1\n",
        "\n",
        "hidden_bias = np.random.rand(1, hidden_neurons)\n",
        "output_bias = np.random.rand(1, output_neurons)\n",
        "\n",
        "alpha = 0.1\n",
        "\n",
        "X = np.array([[0, 0], [0, 1], [1, 0], [1, 1]])\n",
        "y = np.array([[0], [1], [1], [0]])\n",
        "\n",
        "epochs = 10000\n",
        "convergence_error = 0.002\n",
        "\n",
        "for epoch in range(epochs):\n",
        "    hidden_layer_input = np.dot(X, hidden_weights) + hidden_bias\n",
        "    hidden_layer_output = sigmoid(hidden_layer_input)\n",
        "    output_layer_input = np.dot(hidden_layer_output, output_weights) + output_bias\n",
        "    output_layer_output = sigmoid(output_layer_input)\n",
        "\n",
        "    error = y - output_layer_output\n",
        "    loss = 0.5 * np.mean(error ** 2)\n",
        "\n",
        "    output_delta = error * sigmoid_derivative(output_layer_output)\n",
        "    hidden_layer_error = output_delta.dot(output_weights.T)\n",
        "    hidden_layer_delta = hidden_layer_error * sigmoid_derivative(hidden_layer_output)\n",
        "\n",
        "    output_weights += alpha * hidden_layer_output.T.dot(output_delta)\n",
        "    output_bias += alpha * np.sum(output_delta, axis=0, keepdims=True)\n",
        "    hidden_weights += alpha * X.T.dot(hidden_layer_delta)\n",
        "    hidden_bias += alpha * np.sum(hidden_layer_delta, axis=0, keepdims=True)\n",
        "\n",
        "    if loss <= convergence_error:\n",
        "        print(f\"Converged after {epoch + 1} epochs with loss: {loss}\")\n",
        "        break\n",
        "\n",
        "    if epoch % 1000 == 0:\n",
        "        print(f\"Epoch {epoch}, Loss: {loss}\")\n",
        "\n",
        "test_inputs = np.array([[0, 0], [0, 1], [1, 0], [1, 1]])\n",
        "\n",
        "def predict_outputs(test_inputs, hidden_weights, hidden_bias, output_weights, output_bias):\n",
        "    hidden_layer_output = sigmoid(np.dot(test_inputs, hidden_weights) + hidden_bias)\n",
        "    final_output = sigmoid(np.dot(hidden_layer_output, output_weights) + output_bias)\n",
        "    predicted_outputs = np.round(final_output)\n",
        "\n",
        "    return predicted_outputs\n",
        "\n",
        "predicted_outputs = np.round(predict_outputs(test_inputs, hidden_weights, hidden_bias, output_weights, output_bias))\n",
        "\n",
        "print(\"Predicted Outputs for XOR Gate:\")\n",
        "for i in range(len(test_inputs)):\n",
        "    print(f\"{test_inputs[i]} -> {predicted_outputs[i][0]}\")"
      ],
      "metadata": {
        "colab": {
          "base_uri": "https://localhost:8080/"
        },
        "id": "o8KVlMxjcpcx",
        "outputId": "30096ce9-0360-4357-80e6-51f552fbffcd"
      },
      "execution_count": 24,
      "outputs": [
        {
          "output_type": "stream",
          "name": "stdout",
          "text": [
            "Epoch 0, Loss: 0.14188339695923247\n",
            "Epoch 1000, Loss: 0.1250192302590049\n",
            "Epoch 2000, Loss: 0.12499791089549225\n",
            "Epoch 3000, Loss: 0.12498259162003203\n",
            "Epoch 4000, Loss: 0.12493977678549181\n",
            "Epoch 5000, Loss: 0.12474473769698631\n",
            "Epoch 6000, Loss: 0.12344527391610835\n",
            "Epoch 7000, Loss: 0.11315972309314107\n",
            "Epoch 8000, Loss: 0.08491138528537862\n",
            "Epoch 9000, Loss: 0.07215886819952208\n",
            "Predicted Outputs for XOR Gate:\n",
            "[0 0] -> 0.0\n",
            "[0 1] -> 1.0\n",
            "[1 0] -> 0.0\n",
            "[1 1] -> 1.0\n"
          ]
        }
      ]
    }
  ]
}